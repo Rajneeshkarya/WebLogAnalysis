{
 "cells": [
  {
   "cell_type": "code",
   "execution_count": 36,
   "id": "a06097c1-5643-4ed2-bd3c-740ba7475fde",
   "metadata": {},
   "outputs": [],
   "source": [
    "import pandas as pd\n",
    "from sklearn.ensemble import IsolationForest\n",
    "from sklearn.neighbors import LocalOutlierFactor\n",
    "from sklearn.svm import OneClassSVM\n",
    "from sklearn.ensemble import StackingClassifier\n",
    "from sklearn.linear_model import LogisticRegression\n",
    "import numpy as np"
   ]
  },
  {
   "cell_type": "code",
   "execution_count": 37,
   "id": "2b1d59ed-1833-4ebf-8b7c-ff353d2c42a1",
   "metadata": {},
   "outputs": [],
   "source": [
    "# Loading the dataset\n",
    "\n",
    "df = pd.read_csv('Apache_2k_modified.csv')"
   ]
  },
  {
   "cell_type": "code",
   "execution_count": 38,
   "id": "41422939-9acb-42db-90c1-4fac66cd2ca7",
   "metadata": {},
   "outputs": [
    {
     "data": {
      "text/html": [
       "<div>\n",
       "<style scoped>\n",
       "    .dataframe tbody tr th:only-of-type {\n",
       "        vertical-align: middle;\n",
       "    }\n",
       "\n",
       "    .dataframe tbody tr th {\n",
       "        vertical-align: top;\n",
       "    }\n",
       "\n",
       "    .dataframe thead th {\n",
       "        text-align: right;\n",
       "    }\n",
       "</style>\n",
       "<table border=\"1\" class=\"dataframe\">\n",
       "  <thead>\n",
       "    <tr style=\"text-align: right;\">\n",
       "      <th></th>\n",
       "      <th>LineId</th>\n",
       "      <th>Time</th>\n",
       "      <th>Level</th>\n",
       "      <th>Content</th>\n",
       "      <th>EventId</th>\n",
       "      <th>EventTemplate</th>\n",
       "    </tr>\n",
       "  </thead>\n",
       "  <tbody>\n",
       "    <tr>\n",
       "      <th>0</th>\n",
       "      <td>1</td>\n",
       "      <td>Sun Dec 04 04:47:44 2005</td>\n",
       "      <td>notice</td>\n",
       "      <td>workerEnv.init() ok /etc/httpd/conf/workers2.p...</td>\n",
       "      <td>workerEnv.init\\(\\) ok &lt;*&gt;</td>\n",
       "      <td>workerEnv.init() ok &lt;*&gt;</td>\n",
       "    </tr>\n",
       "    <tr>\n",
       "      <th>1</th>\n",
       "      <td>2</td>\n",
       "      <td>Sun Dec 04 04:47:44 2005</td>\n",
       "      <td>error</td>\n",
       "      <td>mod_jk child workerEnv in error state 6</td>\n",
       "      <td>mod_jk child workerEnv in error state &lt;*&gt;</td>\n",
       "      <td>mod_jk child workerEnv in error state &lt;*&gt;</td>\n",
       "    </tr>\n",
       "    <tr>\n",
       "      <th>2</th>\n",
       "      <td>3</td>\n",
       "      <td>Sun Dec 04 04:51:08 2005</td>\n",
       "      <td>notice</td>\n",
       "      <td>jk2_init() Found child 6725 in scoreboard slot 10</td>\n",
       "      <td>jk2_init\\(\\) Found child &lt;*&gt; in scoreboard slo...</td>\n",
       "      <td>jk2_init() Found child &lt;*&gt; in scoreboard slot &lt;*&gt;</td>\n",
       "    </tr>\n",
       "    <tr>\n",
       "      <th>3</th>\n",
       "      <td>4</td>\n",
       "      <td>Sun Dec 04 04:51:09 2005</td>\n",
       "      <td>notice</td>\n",
       "      <td>jk2_init() Found child 6726 in scoreboard slot 8</td>\n",
       "      <td>jk2_init\\(\\) Found child &lt;*&gt; in scoreboard slo...</td>\n",
       "      <td>jk2_init() Found child &lt;*&gt; in scoreboard slot &lt;*&gt;</td>\n",
       "    </tr>\n",
       "    <tr>\n",
       "      <th>4</th>\n",
       "      <td>5</td>\n",
       "      <td>Sun Dec 04 04:51:09 2005</td>\n",
       "      <td>notice</td>\n",
       "      <td>jk2_init() Found child 6728 in scoreboard slot 6</td>\n",
       "      <td>jk2_init\\(\\) Found child &lt;*&gt; in scoreboard slo...</td>\n",
       "      <td>jk2_init() Found child &lt;*&gt; in scoreboard slot &lt;*&gt;</td>\n",
       "    </tr>\n",
       "  </tbody>\n",
       "</table>\n",
       "</div>"
      ],
      "text/plain": [
       "   LineId                      Time   Level  \\\n",
       "0       1  Sun Dec 04 04:47:44 2005  notice   \n",
       "1       2  Sun Dec 04 04:47:44 2005   error   \n",
       "2       3  Sun Dec 04 04:51:08 2005  notice   \n",
       "3       4  Sun Dec 04 04:51:09 2005  notice   \n",
       "4       5  Sun Dec 04 04:51:09 2005  notice   \n",
       "\n",
       "                                             Content  \\\n",
       "0  workerEnv.init() ok /etc/httpd/conf/workers2.p...   \n",
       "1            mod_jk child workerEnv in error state 6   \n",
       "2  jk2_init() Found child 6725 in scoreboard slot 10   \n",
       "3   jk2_init() Found child 6726 in scoreboard slot 8   \n",
       "4   jk2_init() Found child 6728 in scoreboard slot 6   \n",
       "\n",
       "                                             EventId  \\\n",
       "0                          workerEnv.init\\(\\) ok <*>   \n",
       "1          mod_jk child workerEnv in error state <*>   \n",
       "2  jk2_init\\(\\) Found child <*> in scoreboard slo...   \n",
       "3  jk2_init\\(\\) Found child <*> in scoreboard slo...   \n",
       "4  jk2_init\\(\\) Found child <*> in scoreboard slo...   \n",
       "\n",
       "                                       EventTemplate  \n",
       "0                            workerEnv.init() ok <*>  \n",
       "1          mod_jk child workerEnv in error state <*>  \n",
       "2  jk2_init() Found child <*> in scoreboard slot <*>  \n",
       "3  jk2_init() Found child <*> in scoreboard slot <*>  \n",
       "4  jk2_init() Found child <*> in scoreboard slot <*>  "
      ]
     },
     "execution_count": 38,
     "metadata": {},
     "output_type": "execute_result"
    }
   ],
   "source": [
    "df.head()"
   ]
  },
  {
   "cell_type": "code",
   "execution_count": 39,
   "id": "2ea62e59-f340-4213-b8b0-110e1244d44d",
   "metadata": {},
   "outputs": [
    {
     "data": {
      "text/plain": [
       "LineId           0\n",
       "Time             0\n",
       "Level            0\n",
       "Content          0\n",
       "EventId          0\n",
       "EventTemplate    0\n",
       "dtype: int64"
      ]
     },
     "execution_count": 39,
     "metadata": {},
     "output_type": "execute_result"
    }
   ],
   "source": [
    "df.isnull().sum()"
   ]
  },
  {
   "cell_type": "code",
   "execution_count": 40,
   "id": "5ca27ce9-1429-4b1f-8a63-b54a280882d1",
   "metadata": {},
   "outputs": [
    {
     "data": {
      "text/plain": [
       "2000"
      ]
     },
     "execution_count": 40,
     "metadata": {},
     "output_type": "execute_result"
    }
   ],
   "source": [
    "len(df)"
   ]
  },
  {
   "cell_type": "code",
   "execution_count": 41,
   "id": "ee701de2-a853-4524-b872-066d3199d520",
   "metadata": {},
   "outputs": [],
   "source": [
    "df = df.drop_duplicates()"
   ]
  },
  {
   "cell_type": "code",
   "execution_count": 42,
   "id": "ce3a2214-e0b8-4e63-91ea-65fe270ee159",
   "metadata": {},
   "outputs": [
    {
     "data": {
      "text/plain": [
       "2000"
      ]
     },
     "execution_count": 42,
     "metadata": {},
     "output_type": "execute_result"
    }
   ],
   "source": [
    "len(df)"
   ]
  },
  {
   "cell_type": "code",
   "execution_count": 43,
   "id": "0e70615b-e5a2-4525-b2e7-9a02c8c2761b",
   "metadata": {},
   "outputs": [],
   "source": [
    "from sklearn.feature_extraction.text import TfidfVectorizer\n",
    "from sklearn.preprocessing import LabelEncoder\n",
    "from sklearn.metrics import silhouette_score, roc_curve, auc\n",
    "import matplotlib.pyplot as plt"
   ]
  },
  {
   "cell_type": "code",
   "execution_count": 44,
   "id": "47cfaed0-0f5b-4432-80b3-3ce99f3beb5e",
   "metadata": {},
   "outputs": [],
   "source": [
    "label_encoder = LabelEncoder()\n",
    "df['Level_encoded'] = label_encoder.fit_transform(df['Level'])"
   ]
  },
  {
   "cell_type": "code",
   "execution_count": 45,
   "id": "544c78c8-c9f9-4d4e-a0d0-f0d635a72424",
   "metadata": {},
   "outputs": [],
   "source": [
    "tfidf = TfidfVectorizer(max_features=100)\n",
    "content_tfidf = tfidf.fit_transform(df['Content']).toarray()\n",
    "X = np.hstack((df[['Level_encoded']].values, content_tfidf))"
   ]
  },
  {
   "cell_type": "code",
   "execution_count": 46,
   "id": "5f411af4-197a-43fa-b434-4b44e2e4150d",
   "metadata": {},
   "outputs": [],
   "source": [
    "iso_labels = IsolationForest(contamination=0.05, random_state=42).fit_predict(X)"
   ]
  },
  {
   "cell_type": "code",
   "execution_count": 47,
   "id": "0d4d2244-f43d-4e33-bd95-7a018ce20996",
   "metadata": {},
   "outputs": [],
   "source": [
    "# Define base models\n",
    "iso_forest = IsolationForest(n_estimators=100, contamination=0.1, random_state=42)\n",
    "lof = LocalOutlierFactor(n_neighbors=20, contamination=0.1)\n",
    "ocsvm = OneClassSVM(gamma='scale', nu=0.1)"
   ]
  },
  {
   "cell_type": "code",
   "execution_count": 48,
   "id": "335314f4-ad90-462e-b658-26deaecf44c8",
   "metadata": {},
   "outputs": [
    {
     "name": "stderr",
     "output_type": "stream",
     "text": [
      "/home/kairaj5456/.local/bin/new/lib/python3.12/site-packages/sklearn/neighbors/_lof.py:322: UserWarning: Duplicate values are leading to incorrect results. Increase the number of neighbors for more accurate results.\n",
      "  warnings.warn(\n"
     ]
    }
   ],
   "source": [
    "# Convert base learner predictions for stacking\n",
    "iso_preds = iso_forest.fit_predict(X)\n",
    "lof_preds = lof.fit_predict(X)\n",
    "ocsvm_preds = ocsvm.fit_predict(X)\n",
    "stacked_features = np.vstack((iso_preds, lof_preds, ocsvm_preds)).T"
   ]
  },
  {
   "cell_type": "code",
   "execution_count": 49,
   "id": "87f4e842-2c5d-466f-8cda-8902d01ae2a6",
   "metadata": {},
   "outputs": [],
   "source": [
    "# Meta-learner (logistic Regression)\n",
    "\n",
    "meta_model = LogisticRegression()\n",
    "meta_model.fit(stacked_features, iso_labels)\n",
    "stacking_preds = meta_model.predict(stacked_features)"
   ]
  },
  {
   "cell_type": "code",
   "execution_count": 50,
   "id": "0f6b187d-0eaf-4e60-a129-9f40706dab62",
   "metadata": {},
   "outputs": [
    {
     "name": "stdout",
     "output_type": "stream",
     "text": [
      "Anomalies detected: 108 out of 2000\n",
      "Shape of anomaly points: (108, 101)\n",
      "Shape of normal points: (1892, 101)\n"
     ]
    },
    {
     "data": {
      "image/png": "[encoded data removed]",
      "text/plain": [
       "<Figure size 1000x600 with 1 Axes>"
      ]
     },
     "metadata": {},
     "output_type": "display_data"
    }
   ],
   "source": [
    "# Separate anomalies and normal points\n",
    "anomaly_points = X[stacking_preds == -1]\n",
    "normal_points = X[stacking_preds == 1]\n",
    "\n",
    "# Count anomalies detected out of 2000\n",
    "anomalies_count = np.sum(stacking_preds == -1)\n",
    "print(f\"Anomalies detected: {anomalies_count} out of 2000\")\n",
    "\n",
    "# Check the shapes of anomaly and normal points\n",
    "print(f\"Shape of anomaly points: {anomaly_points.shape}\")\n",
    "print(f\"Shape of normal points: {normal_points.shape}\")\n",
    "\n",
    "# Apply PCA for dimensionality reduction\n",
    "pca = PCA(n_components=2)\n",
    "X_pca = pca.fit_transform(X)\n",
    "\n",
    "# Separate the reduced features for normal and anomaly points\n",
    "normal_points_pca = X_pca[stacking_preds == 1]\n",
    "anomaly_points_pca = X_pca[stacking_preds == -1]\n",
    "\n",
    "# Visualize the results\n",
    "plt.figure(figsize=(10, 6))\n",
    "\n",
    "# Plot normal points in blue\n",
    "plt.scatter(normal_points_pca[:, 0], normal_points_pca[:, 1], c='blue', edgecolors='k', s=50, label='Normal Points')\n",
    "\n",
    "# Plot anomaly points in red\n",
    "plt.scatter(anomaly_points_pca[:, 0], anomaly_points_pca[:, 1], c='red', edgecolors='k', s=50, label='Anomalies')\n",
    "\n",
    "# Set title and labels\n",
    "plt.title(\"Stacking Classifier Anomalies vs Normal Points (PCA Reduced)\")\n",
    "plt.xlabel('Principal Component 1')\n",
    "plt.ylabel('Principal Component 2')\n",
    "plt.legend()\n",
    "plt.show()\n"
   ]
  },
  {
   "cell_type": "code",
   "execution_count": 55,
   "id": "a0e23725-baf7-4a35-9ce6-d0b664cb5847",
   "metadata": {},
   "outputs": [
    {
     "name": "stdout",
     "output_type": "stream",
     "text": [
      "Silhouette Score for Stacking Model: 0.23577995486171902\n"
     ]
    }
   ],
   "source": [
    "labels_combined = [1 if p == 1 else 0 for p in stacking_preds]  # Label anomalies as 0, normal points as 1\n",
    "\n",
    "# Calculate silhouette score if there are at least 2 distinct labels\n",
    "if len(set(labels_combined)) > 1:\n",
    "    silhouette_final = silhouette_score(X, labels_combined)\n",
    "    print(f\"Silhouette Score for Stacking Model: {silhouette_final}\")\n",
    "else:\n",
    "    print(\"Silhouette score cannot be calculated because there is only one class.\")"
   ]
  },
  {
   "cell_type": "code",
   "execution_count": null,
   "id": "611e6b85-71ea-4c24-9375-0c71e7cd248a",
   "metadata": {},
   "outputs": [],
   "source": []
  }
 ],
 "metadata": {
  "kernelspec": {
   "display_name": "Python 3 (ipykernel)",
   "language": "python",
   "name": "python3"
  },
  "language_info": {
   "codemirror_mode": {
    "name": "ipython",
    "version": 3
   },
   "file_extension": ".py",
   "mimetype": "text/x-python",
   "name": "python",
   "nbconvert_exporter": "python",
   "pygments_lexer": "ipython3",
   "version": "3.12.7"
  }
 },
 "nbformat": 4,
 "nbformat_minor": 5
}
